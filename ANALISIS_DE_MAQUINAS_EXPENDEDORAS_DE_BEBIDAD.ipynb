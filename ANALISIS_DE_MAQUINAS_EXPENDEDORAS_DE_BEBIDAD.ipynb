{
  "cells": [
    {
      "cell_type": "markdown",
      "metadata": {
        "id": "view-in-github",
        "colab_type": "text"
      },
      "source": [
        "<a href=\"https://colab.research.google.com/github/Addair40/Maquina-expendedora-de-bebidas/blob/main/ANALISIS_DE_MAQUINAS_EXPENDEDORAS_DE_BEBIDAD.ipynb\" target=\"_parent\"><img src=\"https://colab.research.google.com/assets/colab-badge.svg\" alt=\"Open In Colab\"/></a>"
      ]
    },
    {
      "cell_type": "markdown",
      "source": [
        "# Integrantes:\n",
        "- Jonathan Adair Ruiz Hernandez (1719110378)\n",
        "- Ignacio Candia Ibarra (1718110989)\n",
        "\n",
        "# Materia\n",
        "\n",
        "Extraccion de Conocimiento en Base de datos\n",
        "\n",
        "# Actividad\n",
        "Proyecto final"
      ],
      "metadata": {
        "id": "2pmbrzi1Rupx"
      },
      "id": "2pmbrzi1Rupx"
    },
    {
      "cell_type": "markdown",
      "source": [
        "## ANALISIS DE MAQUINAS EXPENDEDORAS DE BEBIDAD\n",
        "\n",
        "---\n",
        "\n",
        "Las máquinas expendedoras nos rodean en nuestra vida diaria y brindan una forma conveniente de obtener un refrigerio o una bebida. Sin embargo, las máquinas expendedoras no se llenan sin una lógica o razón específica. La razón para visualizar  los datos de las máquinas expendedoras es la explicacion en donde resulte muy similar el uso de las maquinas, esto desde la perspectiva del cliente y de las partes interesadas, con un enfoque basado en datos."
      ],
      "metadata": {
        "id": "uaU3sBGY_GZW"
      },
      "id": "uaU3sBGY_GZW"
    },
    {
      "cell_type": "markdown",
      "source": [
        "## USO DE MAQUINAS EXPENDEDORAS DE BEBIDA:\n",
        "\n",
        "---\n",
        "\n",
        "1- Número de máquinas expendedoras: 5\n",
        "\n",
        "2- Número de ubicaciones: 4\n",
        "\n",
        "3- Número de categorías de productos: 4\n",
        "\n",
        "4- Número de productos: 162\n",
        "\n",
        "5- Número de transacciones: 6445\n",
        "\n",
        "6- Lugar de origen: Las vegas Nevada"
      ],
      "metadata": {
        "id": "pmUR5S9-_8Xh"
      },
      "id": "pmUR5S9-_8Xh"
    },
    {
      "cell_type": "markdown",
      "source": [
        "# Autor\n",
        "\n",
        "---\n",
        "\n",
        "Bradford (Ford) Johnson\n",
        "\n"
      ],
      "metadata": {
        "id": "fliY69amArxv"
      },
      "id": "fliY69amArxv"
    },
    {
      "cell_type": "markdown",
      "id": "3cb5a222",
      "metadata": {
        "papermill": {
          "duration": 0.013668,
          "end_time": "2022-12-09T18:39:23.646708",
          "exception": false,
          "start_time": "2022-12-09T18:39:23.633040",
          "status": "completed"
        },
        "tags": [],
        "id": "3cb5a222"
      },
      "source": [
        "Importar bibliotecas de Python y cargar datos, lectura del cvs como nombre \"maquinaexpendedora.csv\""
      ]
    },
    {
      "cell_type": "code",
      "execution_count": 19,
      "id": "e21a4b4f",
      "metadata": {
        "execution": {
          "iopub.execute_input": "2022-12-09T18:39:23.673662Z",
          "iopub.status.busy": "2022-12-09T18:39:23.672660Z",
          "iopub.status.idle": "2022-12-09T18:39:24.774711Z",
          "shell.execute_reply": "2022-12-09T18:39:24.773482Z"
        },
        "papermill": {
          "duration": 1.11902,
          "end_time": "2022-12-09T18:39:24.777724",
          "exception": false,
          "start_time": "2022-12-09T18:39:23.658704",
          "status": "completed"
        },
        "tags": [],
        "id": "e21a4b4f"
      },
      "outputs": [],
      "source": [
        "import pandas as pd\n",
        "import numpy as np\n",
        "from scipy import stats\n",
        "from scipy.stats import ttest_ind\n",
        "import seaborn as sns \n",
        "sns.set()\n",
        "import matplotlib.pyplot as plt\n",
        "\n",
        "\n",
        "df = pd.read_csv(\"maquinaexpendedora.csv\")"
      ]
    },
    {
      "cell_type": "markdown",
      "id": "51a11a67",
      "metadata": {
        "papermill": {
          "duration": 0.012223,
          "end_time": "2022-12-09T18:39:24.802696",
          "exception": false,
          "start_time": "2022-12-09T18:39:24.790473",
          "status": "completed"
        },
        "tags": [],
        "id": "51a11a67"
      },
      "source": [
        "Limpieza total de datos "
      ]
    },
    {
      "cell_type": "code",
      "execution_count": 20,
      "id": "d8640019",
      "metadata": {
        "execution": {
          "iopub.execute_input": "2022-12-09T18:39:24.829491Z",
          "iopub.status.busy": "2022-12-09T18:39:24.829050Z",
          "iopub.status.idle": "2022-12-09T18:39:24.846139Z",
          "shell.execute_reply": "2022-12-09T18:39:24.845151Z"
        },
        "papermill": {
          "duration": 0.033385,
          "end_time": "2022-12-09T18:39:24.848863",
          "exception": false,
          "start_time": "2022-12-09T18:39:24.815478",
          "status": "completed"
        },
        "tags": [],
        "id": "d8640019"
      },
      "outputs": [],
      "source": [
        "df = df.dropna()"
      ]
    },
    {
      "cell_type": "markdown",
      "id": "0a90095d",
      "metadata": {
        "papermill": {
          "duration": 0.012363,
          "end_time": "2022-12-09T18:39:24.873471",
          "exception": false,
          "start_time": "2022-12-09T18:39:24.861108",
          "status": "completed"
        },
        "tags": [],
        "id": "0a90095d"
      },
      "source": [
        "Resumen de datos"
      ]
    },
    {
      "cell_type": "code",
      "execution_count": 21,
      "id": "ad52fcb7",
      "metadata": {
        "execution": {
          "iopub.execute_input": "2022-12-09T18:39:24.900041Z",
          "iopub.status.busy": "2022-12-09T18:39:24.899401Z",
          "iopub.status.idle": "2022-12-09T18:39:24.924010Z",
          "shell.execute_reply": "2022-12-09T18:39:24.922816Z"
        },
        "papermill": {
          "duration": 0.041002,
          "end_time": "2022-12-09T18:39:24.926714",
          "exception": false,
          "start_time": "2022-12-09T18:39:24.885712",
          "status": "completed"
        },
        "tags": [],
        "colab": {
          "base_uri": "https://localhost:8080/"
        },
        "id": "ad52fcb7",
        "outputId": "ebde83c7-15a7-4c9e-914a-8679d08371ac"
      },
      "outputs": [
        {
          "output_type": "stream",
          "name": "stdout",
          "text": [
            "                Total Revenue\n",
            "Category                     \n",
            "Food                  5835.25\n",
            "Carbonated            3371.50\n",
            "Non Carbonated        1811.25\n",
            "Water                  893.25\n"
          ]
        }
      ],
      "source": [
        "total_overview = df.groupby(\"Category\").sum()[['RPrice']]\n",
        "total_overview['Total Revenue'] = total_overview['RPrice']\n",
        "total_overview = total_overview.drop(['RPrice'], axis=1)\n",
        "total_overview = total_overview.sort_values(by = 'Total Revenue', ascending=False)\n",
        "print(total_overview)"
      ]
    },
    {
      "cell_type": "markdown",
      "id": "980bea09",
      "metadata": {
        "papermill": {
          "duration": 0.011958,
          "end_time": "2022-12-09T18:39:24.975798",
          "exception": false,
          "start_time": "2022-12-09T18:39:24.963840",
          "status": "completed"
        },
        "tags": [],
        "id": "980bea09"
      },
      "source": [
        "El ingreso promedio por bebida para las bebidas carbonatadas es igual al ingreso promedio por bebida para las bebidas no carbonatadas.\n",
        "Suponiendo que hay igual demanda (compras) entre las dos categorías"
      ]
    },
    {
      "cell_type": "markdown",
      "source": [
        "1.1- Se crea marcos de datos para categorías carbonatadas y no carbonatadas\n"
      ],
      "metadata": {
        "id": "iYFYZlfqC4sH"
      },
      "id": "iYFYZlfqC4sH"
    },
    {
      "cell_type": "markdown",
      "source": [
        "1.2- Se realiza una prueba para probar variables"
      ],
      "metadata": {
        "id": "sMPx0j6DDNGH"
      },
      "id": "sMPx0j6DDNGH"
    },
    {
      "cell_type": "markdown",
      "source": [
        "1.3- Contexto en grafica"
      ],
      "metadata": {
        "id": "KhNzVIF3Di-9"
      },
      "id": "KhNzVIF3Di-9"
    },
    {
      "cell_type": "markdown",
      "id": "d2dddb1b",
      "metadata": {
        "papermill": {
          "duration": 0.012686,
          "end_time": "2022-12-09T18:39:25.308316",
          "exception": false,
          "start_time": "2022-12-09T18:39:25.295630",
          "status": "completed"
        },
        "tags": [],
        "id": "d2dddb1b"
      },
      "source": [
        "La gráfica de barras muestra el ingreso promedio por producto para bebidas carbonatadas y no carbonatadas\n",
        "- Sin embargo, las bebidas no carbonatadas cuestan más en promedio que sus contrapartes carbonatadas.\n",
        "- Esta es una diferencia significativa con un nivel de confianza del 95 %.\n",
        "\n",
        "Debido a que las bebidas no carbonatadas son más caras pero tienen menos ingresos totales que las bebidas carbonatadas, eso significaría que las bebidas carbonatadas se compran con más frecuencia."
      ]
    },
    {
      "cell_type": "code",
      "execution_count": 9,
      "id": "d1646440",
      "metadata": {
        "execution": {
          "iopub.execute_input": "2022-12-09T18:39:25.002539Z",
          "iopub.status.busy": "2022-12-09T18:39:25.001861Z",
          "iopub.status.idle": "2022-12-09T18:39:25.279501Z",
          "shell.execute_reply": "2022-12-09T18:39:25.278250Z"
        },
        "papermill": {
          "duration": 0.29405,
          "end_time": "2022-12-09T18:39:25.282122",
          "exception": false,
          "start_time": "2022-12-09T18:39:24.988072",
          "status": "completed"
        },
        "tags": [],
        "colab": {
          "base_uri": "https://localhost:8080/",
          "height": 320
        },
        "id": "d1646440",
        "outputId": "85c260a5-3379-480f-a535-08d852512d9c"
      },
      "outputs": [
        {
          "output_type": "stream",
          "name": "stdout",
          "text": [
            "14.522678813161257 7.95456326451125e-46\n",
            "AxesSubplot(0.125,0.125;0.775x0.755)\n"
          ]
        },
        {
          "output_type": "display_data",
          "data": {
            "text/plain": [
              "<Figure size 432x288 with 1 Axes>"
            ],
            "image/png": "[encoded data removed]"
          },
          "metadata": {}
        }
      ],
      "source": [
        "# 1.1\n",
        "df_carb = df.loc[df['Category'] == 'Carbonated']\n",
        "df_noncarb = df.loc[df['Category'] == 'Non Carbonated']\n",
        "\n",
        "# 1.2\n",
        "tc, pc = ttest_ind(df_noncarb['RPrice'], df_carb['RPrice'])\n",
        "print(tc, pc)\n",
        "\n",
        "# 1.3  \n",
        "from numpy import mean\n",
        "t_1 = df[df['Category'].isin(['Carbonated', 'Non Carbonated'])]\n",
        "h_1 = sns.barplot(x = 'Category', y = 'RPrice', data = t_1, estimator = mean)\n",
        "print(h_1)"
      ]
    },
    {
      "cell_type": "markdown",
      "source": [
        "Obtener recuentos de bebidas carbonatadas y no carbonatadas"
      ],
      "metadata": {
        "id": "WuVahiSmFVEx"
      },
      "id": "WuVahiSmFVEx"
    },
    {
      "cell_type": "code",
      "execution_count": 10,
      "id": "e565f51e",
      "metadata": {
        "execution": {
          "iopub.execute_input": "2022-12-09T18:39:25.336410Z",
          "iopub.status.busy": "2022-12-09T18:39:25.335511Z",
          "iopub.status.idle": "2022-12-09T18:39:25.351860Z",
          "shell.execute_reply": "2022-12-09T18:39:25.350375Z"
        },
        "papermill": {
          "duration": 0.033238,
          "end_time": "2022-12-09T18:39:25.354739",
          "exception": false,
          "start_time": "2022-12-09T18:39:25.321501",
          "status": "completed"
        },
        "tags": [],
        "colab": {
          "base_uri": "https://localhost:8080/"
        },
        "id": "e565f51e",
        "outputId": "306c805f-37f4-43f6-c515-332d95fa9346"
      },
      "outputs": [
        {
          "output_type": "stream",
          "name": "stdout",
          "text": [
            "                Total Sold\n",
            "Category                  \n",
            "Carbonated            1639\n",
            "Non Carbonated         710\n"
          ]
        }
      ],
      "source": [
        "count_overview = t_1.groupby(\"Category\").count()[['RPrice']]\n",
        "count_overview['Total Sold'] = count_overview['RPrice']\n",
        "count_overview = count_overview.drop(['RPrice'], axis=1)\n",
        "print(count_overview)"
      ]
    },
    {
      "cell_type": "markdown",
      "id": "28766acf",
      "metadata": {
        "papermill": {
          "duration": 0.012435,
          "end_time": "2022-12-09T18:39:25.380018",
          "exception": false,
          "start_time": "2022-12-09T18:39:25.367583",
          "status": "completed"
        },
        "tags": [],
        "id": "28766acf"
      },
      "source": [
        "# Carbonatadas Vs no Carbonatadas\n",
        "\n",
        "En promedio, las bebidas no carbonatadas generan más ingresos que las bebidas carbonatadas, pero las bebidas carbonatadas se venden más. Con muchas opciones diferentes y espacio limitado para bebidas en las máquinas expendedoras,  se necesita optimizar la selección de productos.\n",
        "\n",
        "\n",
        "*   Se debe tener cuales son las bebidas carbonatadas mas populares.\n",
        "\n"
      ]
    },
    {
      "cell_type": "markdown",
      "id": "383c8899",
      "metadata": {
        "papermill": {
          "duration": 0.012491,
          "end_time": "2022-12-09T18:39:25.405281",
          "exception": false,
          "start_time": "2022-12-09T18:39:25.392790",
          "status": "completed"
        },
        "tags": [],
        "id": "383c8899"
      },
      "source": [
        "#Bebidas carbonatadas mas populares\n"
      ]
    },
    {
      "cell_type": "markdown",
      "source": [
        "1.1- Crear df filtrado solo para bebidas carbonatadas"
      ],
      "metadata": {
        "id": "Hmysz9MzLfGh"
      },
      "id": "Hmysz9MzLfGh"
    },
    {
      "cell_type": "markdown",
      "source": [
        "1.2- Obtener conteos para cada producto"
      ],
      "metadata": {
        "id": "OgsDz0Z-Lwlg"
      },
      "id": "OgsDz0Z-Lwlg"
    },
    {
      "cell_type": "markdown",
      "source": [
        "1.3 Todas las opciones totales (16 en total)"
      ],
      "metadata": {
        "id": "mQj388NkMB0K"
      },
      "id": "mQj388NkMB0K"
    },
    {
      "cell_type": "code",
      "execution_count": 11,
      "id": "3972a0d3",
      "metadata": {
        "execution": {
          "iopub.execute_input": "2022-12-09T18:39:25.433979Z",
          "iopub.status.busy": "2022-12-09T18:39:25.432740Z",
          "iopub.status.idle": "2022-12-09T18:39:25.450322Z",
          "shell.execute_reply": "2022-12-09T18:39:25.448988Z"
        },
        "papermill": {
          "duration": 0.034411,
          "end_time": "2022-12-09T18:39:25.452948",
          "exception": false,
          "start_time": "2022-12-09T18:39:25.418537",
          "status": "completed"
        },
        "tags": [],
        "colab": {
          "base_uri": "https://localhost:8080/"
        },
        "id": "3972a0d3",
        "outputId": "ad1b7167-4358-4f9e-d548-b1c80a863632"
      },
      "outputs": [
        {
          "output_type": "stream",
          "name": "stdout",
          "text": [
            "                                               Total Sold\n",
            "Product                                                  \n",
            "Coca Cola - Zero Sugar                                517\n",
            "Monster Energy Original                               385\n",
            "Sunkist Soda - Orange                                 217\n",
            "Red Bull - Original                                   157\n",
            "Coca Cola - Regular                                   155\n",
            "Starbucks Refresher - Real Coconut Water               53\n",
            "Spindrift - Sparkling Water - Pineapple                51\n",
            "Keto Krisp - Almond Butter                             27\n",
            "Spindrift - Sparkling Water  Lime                      22\n",
            "Red Bull - Energy Drink - Sugar Free                   21\n",
            "Keto Krisp - Almond/Chocolate                          15\n",
            "Bubly - Cherry                                          5\n",
            "Bubly - Mango                                           5\n",
            "Monster Energy  Zero Ultra                              4\n",
            "S. Pellegrino Essenza Mineral Water - Blood O           3\n",
            "Remedy Kombucha - Ginger Lemon                          2\n"
          ]
        }
      ],
      "source": [
        "# 1.1\n",
        "carbonated_df = df.loc[df['Category'] == 'Carbonated']\n",
        "\n",
        "# 1.2\n",
        "carb_count_overview = carbonated_df.groupby('Product').count()[['RPrice']]\n",
        "carb_count_overview['Total Sold'] = carb_count_overview['RPrice']\n",
        "carb_count_overview = carb_count_overview.drop(['RPrice'], axis=1)\n",
        "carb_count_overview = carb_count_overview.sort_values(by = 'Total Sold', ascending=False)\n",
        "\n",
        "# 1.3\n",
        "print(carb_count_overview)\n",
        "carb_top_5 = carb_count_overview.head()\n",
        "carb_bottom_11 = carb_count_overview.tail(11)"
      ]
    },
    {
      "cell_type": "markdown",
      "id": "20e52144",
      "metadata": {
        "papermill": {
          "duration": 0.012581,
          "end_time": "2022-12-09T18:39:25.478525",
          "exception": false,
          "start_time": "2022-12-09T18:39:25.465944",
          "status": "completed"
        },
        "tags": [],
        "id": "20e52144"
      },
      "source": [
        "# Top 5 de bebidas carbonatadas en general\n",
        "Estas son las 5 mejores bebidas carbonatadas y también todas tienen más de 100 compras, y son las principales bebidas carbonatadas que debe almacenar en maquinas de expendedoras"
      ]
    },
    {
      "cell_type": "code",
      "execution_count": 12,
      "id": "55e2059f",
      "metadata": {
        "execution": {
          "iopub.execute_input": "2022-12-09T18:39:25.506714Z",
          "iopub.status.busy": "2022-12-09T18:39:25.505979Z",
          "iopub.status.idle": "2022-12-09T18:39:25.513444Z",
          "shell.execute_reply": "2022-12-09T18:39:25.511784Z"
        },
        "papermill": {
          "duration": 0.025626,
          "end_time": "2022-12-09T18:39:25.517073",
          "exception": false,
          "start_time": "2022-12-09T18:39:25.491447",
          "status": "completed"
        },
        "tags": [],
        "colab": {
          "base_uri": "https://localhost:8080/"
        },
        "id": "55e2059f",
        "outputId": "07e309ac-9a9d-4391-d8d2-55b56c707d64"
      },
      "outputs": [
        {
          "output_type": "stream",
          "name": "stdout",
          "text": [
            "                         Total Sold\n",
            "Product                            \n",
            "Coca Cola - Zero Sugar          517\n",
            "Monster Energy Original         385\n",
            "Sunkist Soda - Orange           217\n",
            "Red Bull - Original             157\n",
            "Coca Cola - Regular             155\n"
          ]
        }
      ],
      "source": [
        "print(carb_top_5)"
      ]
    },
    {
      "cell_type": "markdown",
      "id": "aa14bf7f",
      "metadata": {
        "papermill": {
          "duration": 0.012751,
          "end_time": "2022-12-09T18:39:25.543700",
          "exception": false,
          "start_time": "2022-12-09T18:39:25.530949",
          "status": "completed"
        },
        "tags": [],
        "id": "aa14bf7f"
      },
      "source": [
        "# Las 11 últimas bebidas carbonatadas en general\n",
        "Estas son las bebidas que se deben reconsiderar, especialmente las que tienen menos de 30 vendidas, ya que están ocupando espacio en las máquinas y no se compran con frecuencia."
      ]
    },
    {
      "cell_type": "code",
      "execution_count": 13,
      "id": "adfa0c5b",
      "metadata": {
        "execution": {
          "iopub.execute_input": "2022-12-09T18:39:25.571835Z",
          "iopub.status.busy": "2022-12-09T18:39:25.571439Z",
          "iopub.status.idle": "2022-12-09T18:39:25.578270Z",
          "shell.execute_reply": "2022-12-09T18:39:25.577417Z"
        },
        "papermill": {
          "duration": 0.023682,
          "end_time": "2022-12-09T18:39:25.580939",
          "exception": false,
          "start_time": "2022-12-09T18:39:25.557257",
          "status": "completed"
        },
        "tags": [],
        "colab": {
          "base_uri": "https://localhost:8080/"
        },
        "id": "adfa0c5b",
        "outputId": "f38fa716-58ed-42ba-f7d5-4da41b9d1410"
      },
      "outputs": [
        {
          "output_type": "stream",
          "name": "stdout",
          "text": [
            "                                               Total Sold\n",
            "Product                                                  \n",
            "Starbucks Refresher - Real Coconut Water               53\n",
            "Spindrift - Sparkling Water - Pineapple                51\n",
            "Keto Krisp - Almond Butter                             27\n",
            "Spindrift - Sparkling Water  Lime                      22\n",
            "Red Bull - Energy Drink - Sugar Free                   21\n",
            "Keto Krisp - Almond/Chocolate                          15\n",
            "Bubly - Cherry                                          5\n",
            "Bubly - Mango                                           5\n",
            "Monster Energy  Zero Ultra                              4\n",
            "S. Pellegrino Essenza Mineral Water - Blood O           3\n",
            "Remedy Kombucha - Ginger Lemon                          2\n"
          ]
        }
      ],
      "source": [
        "print(carb_bottom_11)"
      ]
    },
    {
      "cell_type": "markdown",
      "id": "c6b39ed3",
      "metadata": {
        "papermill": {
          "duration": 0.012867,
          "end_time": "2022-12-09T18:39:25.607739",
          "exception": false,
          "start_time": "2022-12-09T18:39:25.594872",
          "status": "completed"
        },
        "tags": [],
        "id": "c6b39ed3"
      },
      "source": [
        "# Bebidas sin gas (24 Productos Totales)"
      ]
    },
    {
      "cell_type": "markdown",
      "source": [
        "1.1- Crear df filtrado solo para bebidas no carbonatadas"
      ],
      "metadata": {
        "id": "MeLQf4-bNOae"
      },
      "id": "MeLQf4-bNOae"
    },
    {
      "cell_type": "markdown",
      "source": [
        "1.2-Obtener recuentos para cada producto"
      ],
      "metadata": {
        "id": "SR87iQ2_NW__"
      },
      "id": "SR87iQ2_NW__"
    },
    {
      "cell_type": "markdown",
      "source": [
        "1.3-Todas las opciones totales"
      ],
      "metadata": {
        "id": "2yv477tbNcmb"
      },
      "id": "2yv477tbNcmb"
    },
    {
      "cell_type": "code",
      "execution_count": 14,
      "id": "820c5621",
      "metadata": {
        "execution": {
          "iopub.execute_input": "2022-12-09T18:39:25.636107Z",
          "iopub.status.busy": "2022-12-09T18:39:25.635686Z",
          "iopub.status.idle": "2022-12-09T18:39:25.652849Z",
          "shell.execute_reply": "2022-12-09T18:39:25.651864Z"
        },
        "papermill": {
          "duration": 0.033981,
          "end_time": "2022-12-09T18:39:25.655332",
          "exception": false,
          "start_time": "2022-12-09T18:39:25.621351",
          "status": "completed"
        },
        "tags": [],
        "colab": {
          "base_uri": "https://localhost:8080/"
        },
        "id": "820c5621",
        "outputId": "06ae277c-e556-4fdf-a541-1782e527cb0e"
      },
      "outputs": [
        {
          "output_type": "stream",
          "name": "stdout",
          "text": [
            "                                            Total Sold\n",
            "Product                                               \n",
            "Snapple Diet Tea - Peach Tea                       109\n",
            "Snapple Diet Tea - Lemon                            88\n",
            "Snapple Tea - Raspberry                             79\n",
            "Starbucks Doubleshot Energy - Mocha                 74\n",
            "Iberia Coconut Water                                72\n",
            "Snapple Tea - Lemon                                 51\n",
            "Bai Antioxidant - Tanzania Lemon Super Tea          33\n",
            "Snapple Tea - Peach                                 31\n",
            "Snapple Diet Tea - Raspberry                        28\n",
            "V8 Vegetable Juice - Original                       27\n",
            "BodyArmor  LYTE - Blueberry Pomegranate             23\n",
            "Bai Antioxidant - Molokai Coconut                   12\n",
            "Bai Antioxidant - Zambia Bingcherry                 11\n",
            "Bai Lemonade - Burundi Blueberry                    10\n",
            "Honest Tea - Berry Hibiscus                         10\n",
            "Bai Antioxidant - Kupang strawberry kiwi            10\n",
            "Snapple Lemonade - black berry                       8\n",
            "Snapple Lemonade - pineapple                         8\n",
            "Snapple Lemonade - watermelon                        8\n",
            "Zevia Zero Calorie Energy - Mango Ginger             6\n",
            "Bai Antioxidant - Kula Watermelon                    5\n",
            "Bai Antioxidant - Brasilia BB                        4\n",
            "Spindrift - Sparkling Water Raspberry Lime           2\n",
            "Zevia Organic Tea - Peach                            1\n"
          ]
        }
      ],
      "source": [
        "# 1.1\n",
        "non_carbonated_df = df.loc[df['Category'] == 'Non Carbonated']\n",
        "\n",
        "# 1.2\n",
        "non_carb_count_overview = non_carbonated_df.groupby('Product').count()[['RPrice']]\n",
        "non_carb_count_overview['Total Sold'] = non_carb_count_overview['RPrice']\n",
        "non_carb_count_overview = non_carb_count_overview.drop(['RPrice'], axis=1)\n",
        "non_carb_count_overview = non_carb_count_overview.sort_values(by = 'Total Sold', ascending=False)\n",
        "\n",
        "# 1.3 \n",
        "print(non_carb_count_overview)"
      ]
    },
    {
      "cell_type": "markdown",
      "id": "61f121e5",
      "metadata": {
        "papermill": {
          "duration": 0.012908,
          "end_time": "2022-12-09T18:39:25.681546",
          "exception": false,
          "start_time": "2022-12-09T18:39:25.668638",
          "status": "completed"
        },
        "tags": [],
        "id": "61f121e5"
      },
      "source": [
        "# Top 5 de bebidas no carbonatadas en general\n",
        "Estas son las 5 bebidas no carbonatadas principales y también tienen más de 70 compras, y son las principales bebidas no carbonatadas que debe almacenar en estos lugares"
      ]
    },
    {
      "cell_type": "code",
      "execution_count": 15,
      "id": "e26fc94c",
      "metadata": {
        "execution": {
          "iopub.execute_input": "2022-12-09T18:39:25.710653Z",
          "iopub.status.busy": "2022-12-09T18:39:25.709546Z",
          "iopub.status.idle": "2022-12-09T18:39:25.717383Z",
          "shell.execute_reply": "2022-12-09T18:39:25.716141Z"
        },
        "papermill": {
          "duration": 0.025049,
          "end_time": "2022-12-09T18:39:25.720088",
          "exception": false,
          "start_time": "2022-12-09T18:39:25.695039",
          "status": "completed"
        },
        "tags": [],
        "colab": {
          "base_uri": "https://localhost:8080/"
        },
        "id": "e26fc94c",
        "outputId": "7e043e9b-6734-4e16-9e09-5dc2519f5d3d"
      },
      "outputs": [
        {
          "output_type": "stream",
          "name": "stdout",
          "text": [
            "                                     Total Sold\n",
            "Product                                        \n",
            "Snapple Diet Tea - Peach Tea                109\n",
            "Snapple Diet Tea - Lemon                     88\n",
            "Snapple Tea - Raspberry                      79\n",
            "Starbucks Doubleshot Energy - Mocha          74\n",
            "Iberia Coconut Water                         72\n"
          ]
        }
      ],
      "source": [
        "print(non_carb_count_overview.head())"
      ]
    },
    {
      "cell_type": "markdown",
      "id": "f805bd9a",
      "metadata": {
        "papermill": {
          "duration": 0.012758,
          "end_time": "2022-12-09T18:39:25.745958",
          "exception": false,
          "start_time": "2022-12-09T18:39:25.733200",
          "status": "completed"
        },
        "tags": [],
        "id": "f805bd9a"
      },
      "source": [
        "# Las 19 últimas bebidas no carbonatadas en general\n",
        "Estas bebidas no carbonatadas no son tan populares en estos lugares y deben reconsiderarse, si hay espacio para más bebidas no carbonatadas, entonces se debe dar la mayor consideración a las más populares de esta tabla."
      ]
    },
    {
      "cell_type": "code",
      "execution_count": 18,
      "id": "068de71f",
      "metadata": {
        "execution": {
          "iopub.execute_input": "2022-12-09T18:39:25.773693Z",
          "iopub.status.busy": "2022-12-09T18:39:25.773302Z",
          "iopub.status.idle": "2022-12-09T18:39:25.780552Z",
          "shell.execute_reply": "2022-12-09T18:39:25.779245Z"
        },
        "papermill": {
          "duration": 0.024517,
          "end_time": "2022-12-09T18:39:25.783521",
          "exception": false,
          "start_time": "2022-12-09T18:39:25.759004",
          "status": "completed"
        },
        "tags": [],
        "colab": {
          "base_uri": "https://localhost:8080/"
        },
        "id": "068de71f",
        "outputId": "fce01b1a-51b0-43dd-d335-d6334a768606"
      },
      "outputs": [
        {
          "output_type": "stream",
          "name": "stdout",
          "text": [
            "                                            Total Sold\n",
            "Product                                               \n",
            "Snapple Tea - Lemon                                 51\n",
            "Bai Antioxidant - Tanzania Lemon Super Tea          33\n",
            "Snapple Tea - Peach                                 31\n",
            "Snapple Diet Tea - Raspberry                        28\n",
            "V8 Vegetable Juice - Original                       27\n",
            "BodyArmor  LYTE - Blueberry Pomegranate             23\n",
            "Bai Antioxidant - Molokai Coconut                   12\n",
            "Bai Antioxidant - Zambia Bingcherry                 11\n",
            "Bai Lemonade - Burundi Blueberry                    10\n",
            "Honest Tea - Berry Hibiscus                         10\n",
            "Bai Antioxidant - Kupang strawberry kiwi            10\n",
            "Snapple Lemonade - black berry                       8\n",
            "Snapple Lemonade - pineapple                         8\n",
            "Snapple Lemonade - watermelon                        8\n",
            "Zevia Zero Calorie Energy - Mango Ginger             6\n",
            "Bai Antioxidant - Kula Watermelon                    5\n",
            "Bai Antioxidant - Brasilia BB                        4\n",
            "Spindrift - Sparkling Water Raspberry Lime           2\n",
            "Zevia Organic Tea - Peach                            1\n"
          ]
        }
      ],
      "source": [
        "print(non_carb_count_overview.tail(19))"
      ]
    }
  ],
  "metadata": {
    "kernelspec": {
      "display_name": "Python 3",
      "language": "python",
      "name": "python3"
    },
    "language_info": {
      "codemirror_mode": {
        "name": "ipython",
        "version": 3
      },
      "file_extension": ".py",
      "mimetype": "text/x-python",
      "name": "python",
      "nbconvert_exporter": "python",
      "pygments_lexer": "ipython3",
      "version": "3.7.12"
    },
    "papermill": {
      "default_parameters": {},
      "duration": 14.05931,
      "end_time": "2022-12-09T18:39:29.192647",
      "environment_variables": {},
      "exception": null,
      "input_path": "__notebook__.ipynb",
      "output_path": "__notebook__.ipynb",
      "parameters": {},
      "start_time": "2022-12-09T18:39:15.133337",
      "version": "2.3.4"
    },
    "colab": {
      "provenance": [],
      "include_colab_link": true
    }
  },
  "nbformat": 4,
  "nbformat_minor": 5
}